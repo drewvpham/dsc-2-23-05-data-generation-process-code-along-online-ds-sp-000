{
 "cells": [
  {
   "cell_type": "code",
   "execution_count": 206,
   "metadata": {},
   "outputs": [],
   "source": [
    "import pandas as pd\n",
    "import requests"
   ]
  },
  {
   "cell_type": "code",
   "execution_count": 207,
   "metadata": {},
   "outputs": [],
   "source": [
    "all_category_res = requests.get(\"https://www.themealdb.com/api/json/v1/1/list.php?c=list\")\n",
    "all_category_data = all_category_res.json()\n",
    "all_categorys_df = pd.DataFrame(all_category_data['meals'])\n",
    "category_list = [str(cat) for cat in all_categorys_df['strCategory']]"
   ]
  },
  {
   "cell_type": "code",
   "execution_count": 224,
   "metadata": {},
   "outputs": [
    {
     "name": "stdout",
     "output_type": "stream",
     "text": [
      "category with most recipes:  Dessert\n"
     ]
    }
   ],
   "source": [
    "cat_dict={}\n",
    "top_recipe_count=0\n",
    "top_recipe_cat = ''\n",
    "\n",
    "for category in category_list:\n",
    "    category_res = requests.get(\"https://www.themealdb.com/api/json/v1/1/filter.php?c={}\".format(category))\n",
    "    category_data = category_res.json()\n",
    "    cat_dict[category]=len(category_data['meals'])\n",
    "    if len(category_data['meals'])>top_recipe_count:\n",
    "        top_recipe_count=len(category_data['meals'])\n",
    "        top_recipe_cat = category\n",
    "\n",
    "# print(cat_dict)\n",
    "print 'category with most recipes: ',top_recipe_cat"
   ]
  },
  {
   "cell_type": "code",
   "execution_count": 209,
   "metadata": {},
   "outputs": [],
   "source": [
    "all_des_res = requests.get(\"https://www.themealdb.com/api/json/v1/1/filter.php?c=Dessert\")\n",
    "all_des_data = all_des_res.json()\n",
    "dessert_recipes_df = pd.DataFrame(all_des_data['meals'])\n",
    "dessert_recipe_list = [str(cat) for cat in dessert_recipes_df['strMeal']]"
   ]
  },
  {
   "cell_type": "code",
   "execution_count": 210,
   "metadata": {},
   "outputs": [],
   "source": [
    "des_df=[]\n",
    "for des_recipe in dessert_recipe_list:\n",
    "    des_recipe_res = requests.get(\"https://www.themealdb.com/api/json/v1/1/search.php?s={}\".format(des_recipe))\n",
    "    des_recipe_data = des_recipe_res.json()\n",
    "    des_df.append(pd.DataFrame(des_recipe_data['meals']))\n",
    "    "
   ]
  },
  {
   "cell_type": "code",
   "execution_count": 211,
   "metadata": {
    "scrolled": false
   },
   "outputs": [],
   "source": [
    "all_dessert_recipe = pd.concat(des_df)\n",
    "canadian_desserts=all_dessert_recipe[all_dessert_recipe['strArea']=='Canadian']\n",
    "canadian_desserts.columns=[str(col) for col in canadian_desserts.columns]\n",
    "ingredient_list = [col for col in canadian_desserts.columns if 'strIngredient' in col]\n",
    "canadian_desserts_ingredients = canadian_desserts[ingredient_list]\n"
   ]
  },
  {
   "cell_type": "code",
   "execution_count": 216,
   "metadata": {},
   "outputs": [],
   "source": [
    "ingredient_dict={}\n",
    "\n",
    "for index, row in canadian_desserts_ingredients.iterrows():\n",
    "    for ingredient in canadian_desserts_ingredients.columns:\n",
    "        if row[ingredient] not in ingredient_dict:\n",
    "            ingredient_dict[row[ingredient]]=1\n",
    "        else:\n",
    "            ingredient_dict[row[ingredient]]+=1       "
   ]
  },
  {
   "cell_type": "code",
   "execution_count": 223,
   "metadata": {},
   "outputs": [
    {
     "name": "stdout",
     "output_type": "stream",
     "text": [
      "least common candadian dessert ingredients: ['Maple Syrup', 'Plain Flour', 'Lemon', 'Custard Powder', 'Yeast', 'Digestive Biscuits', 'Raisins', 'Shortcrust Pastry', 'Walnuts', 'Water', 'Almonds', 'Cocoa', 'Double Cream', 'Desiccated Coconut', 'Muscovado Sugar', 'Custard', 'Dark Chocolate', 'Caster Sugar', 'Cinnamon']\n"
     ]
    }
   ],
   "source": [
    "least_common_canadian_dessert_ingredients = {k:v for (k,v) in ingredient_dict.items() if v ==1}\n",
    "least_common_array = [str(ingredient) for ingredient in least_common_canadian_dessert_ingredients.keys()]\n",
    "print 'least common candadian dessert ingredients:',least_common_array"
   ]
  },
  {
   "cell_type": "code",
   "execution_count": null,
   "metadata": {},
   "outputs": [],
   "source": []
  }
 ],
 "metadata": {
  "kernelspec": {
   "display_name": "Python 2",
   "language": "python",
   "name": "python2"
  },
  "language_info": {
   "codemirror_mode": {
    "name": "ipython",
    "version": 2
   },
   "file_extension": ".py",
   "mimetype": "text/x-python",
   "name": "python",
   "nbconvert_exporter": "python",
   "pygments_lexer": "ipython2",
   "version": "2.7.10"
  }
 },
 "nbformat": 4,
 "nbformat_minor": 2
}
